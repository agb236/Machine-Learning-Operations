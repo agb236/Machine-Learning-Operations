{
 "cells": [
  {
   "cell_type": "code",
   "execution_count": 11,
   "metadata": {},
   "outputs": [],
   "source": [
    "import torch\n",
    "from torch import nn\n",
    "from torch import optim\n",
    "import os\n",
    "from datetime import datetime\n",
    "import sys\n",
    "\n",
    "if 'pth' not in globals():\n",
    "    pth = os.getcwd()\n",
    "os.chdir(pth)\n",
    "os.chdir('..')\n",
    "\n",
    "from src.mlops_grp69.data import corrupt_mnist\n",
    "from src.mlops_grp69.model import MyAwesomeModel"
   ]
  },
  {
   "cell_type": "code",
   "execution_count": 14,
   "metadata": {},
   "outputs": [],
   "source": [
    "model = MyAwesomeModel()\n",
    "train_set, _ = corrupt_mnist()"
   ]
  }
 ],
 "metadata": {
  "kernelspec": {
   "display_name": "pip-env3",
   "language": "python",
   "name": "python3"
  },
  "language_info": {
   "codemirror_mode": {
    "name": "ipython",
    "version": 3
   },
   "file_extension": ".py",
   "mimetype": "text/x-python",
   "name": "python",
   "nbconvert_exporter": "python",
   "pygments_lexer": "ipython3",
   "version": "3.10.14"
  }
 },
 "nbformat": 4,
 "nbformat_minor": 2
}
